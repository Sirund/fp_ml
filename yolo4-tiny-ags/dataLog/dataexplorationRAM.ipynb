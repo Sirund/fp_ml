{
 "cells": [
  {
   "cell_type": "code",
   "execution_count": null,
   "metadata": {},
   "outputs": [],
   "source": [
    "import pandas as pd\n",
    "from matplotlib import dates as mpl_date\n",
    "import matplotlib.pyplot as plt"
   ]
  },
  {
   "cell_type": "code",
   "execution_count": null,
   "metadata": {},
   "outputs": [],
   "source": [
    "dataRAM = pd.read_csv(\"RAM.csv\")\n",
    "dataRAM.drop(columns=dataRAM.columns[0], axis=1, inplace=True)\n",
    "dataRAM.head()"
   ]
  },
  {
   "cell_type": "code",
   "execution_count": null,
   "metadata": {},
   "outputs": [],
   "source": [
    "dataRAM.describe()"
   ]
  },
  {
   "cell_type": "code",
   "execution_count": null,
   "metadata": {},
   "outputs": [],
   "source": [
    "dfH = []\n",
    "dfm = []\n",
    "dfs = []\n",
    "for index, row in dataRAM.iterrows():\n",
    "    timestamp = row['Time']\n",
    "    H,m,s = timestamp.split(':')\n",
    "    dfH.append(H)\n",
    "    dfm.append(m)\n",
    "    dfs.append(s)\n",
    "\n",
    "dataRAM['H'] = dfH\n",
    "dataRAM['m'] = dfm\n",
    "dataRAM['s'] = dfs\n",
    "\n",
    "print(type(dataRAM))\n",
    "dataRAM.head()"
   ]
  },
  {
   "cell_type": "code",
   "execution_count": null,
   "metadata": {},
   "outputs": [],
   "source": [
    "groupData = dataRAM.groupby(['H', 'm', 's'], as_index=False).mean()\n",
    "groupData"
   ]
  },
  {
   "cell_type": "code",
   "execution_count": null,
   "metadata": {},
   "outputs": [],
   "source": [
    "Time = []\n",
    "for index, row in groupData.iterrows():\n",
    "    Time.append(row['H']+':'+row['m']+':'+row['s'])\n",
    "\n",
    "newDF = pd.DataFrame()\n",
    "newDF['Time'] = Time\n",
    "newDF['RAM_Precentage'] = groupData['RAM_Precentage']\n",
    "newDF['Time'] = pd.to_datetime(newDF['Time'])\n",
    "newDF"
   ]
  },
  {
   "cell_type": "code",
   "execution_count": null,
   "metadata": {},
   "outputs": [],
   "source": [
    "from pandasql import sqldf\n",
    "sql = lambda q: sqldf(q, globals())\n",
    "newDF = sqldf(\"SELECT * FROM newDF WHERE Time BETWEEN '2022-12-01 14:15:00' AND '2022-12-01 14:16:01'\")\n",
    "newDF"
   ]
  },
  {
   "cell_type": "code",
   "execution_count": null,
   "metadata": {},
   "outputs": [],
   "source": [
    "plt.plot(newDF.Time, newDF.RAM_Precentage)\n",
    " \n",
    "plt.title('RAM Usage Precentage')\n",
    "plt.xticks(rotation=30, ha='right')\n",
    "\n",
    "plt.xlabel('Time')\n",
    "plt.ylabel('RAM Precentage')\n",
    "plt.savefig('RAM.png')"
   ]
  }
 ],
 "metadata": {
  "kernelspec": {
   "display_name": "Python 3.8.10 64-bit",
   "language": "python",
   "name": "python3"
  },
  "language_info": {
   "name": "python",
   "version": "3.8.10"
  },
  "orig_nbformat": 4,
  "vscode": {
   "interpreter": {
    "hash": "916dbcbb3f70747c44a77c7bcd40155683ae19c65e1c03b4aa3499c5328201f1"
   }
  }
 },
 "nbformat": 4,
 "nbformat_minor": 2
}
