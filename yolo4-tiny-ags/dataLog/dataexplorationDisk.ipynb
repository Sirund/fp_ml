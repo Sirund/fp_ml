{
 "cells": [
  {
   "cell_type": "code",
   "execution_count": null,
   "metadata": {},
   "outputs": [],
   "source": [
    "import pandas as pd\n",
    "from matplotlib import dates as mpl_date\n",
    "import matplotlib.pyplot as plt"
   ]
  },
  {
   "cell_type": "code",
   "execution_count": null,
   "metadata": {},
   "outputs": [],
   "source": [
    "dataDisk = pd.read_csv(\"Disk.csv\")\n",
    "dataDisk.drop(columns=dataDisk.columns[0], axis=1, inplace=True)\n",
    "dataDisk.head()"
   ]
  },
  {
   "cell_type": "code",
   "execution_count": null,
   "metadata": {},
   "outputs": [],
   "source": [
    "dataDisk.describe()"
   ]
  },
  {
   "cell_type": "code",
   "execution_count": null,
   "metadata": {},
   "outputs": [],
   "source": [
    "dfH = []\n",
    "dfm = []\n",
    "dfs = []\n",
    "for index, row in dataDisk.iterrows():\n",
    "    timestamp = row['Time']\n",
    "    H,m,s = timestamp.split(':')\n",
    "    dfH.append(H)\n",
    "    dfm.append(m)\n",
    "    dfs.append(s)\n",
    "\n",
    "dataDisk['H'] = dfH\n",
    "dataDisk['m'] = dfm\n",
    "dataDisk['s'] = dfs\n",
    "\n",
    "print(type(dataDisk))\n",
    "dataDisk.head()"
   ]
  },
  {
   "cell_type": "code",
   "execution_count": null,
   "metadata": {},
   "outputs": [],
   "source": [
    "groupData = dataDisk.groupby(['H', 'm', 's'], as_index=False).mean()\n",
    "groupData"
   ]
  },
  {
   "cell_type": "code",
   "execution_count": null,
   "metadata": {},
   "outputs": [],
   "source": [
    "Time = []\n",
    "for index, row in groupData.iterrows():\n",
    "    Time.append(row['H']+':'+row['m']+':'+row['s'])\n",
    "\n",
    "newDF = pd.DataFrame()\n",
    "newDF['Time'] = Time\n",
    "newDF['Disk_Precentage'] = groupData['Disk_Precentage']\n",
    "newDF['Time'] = pd.to_datetime(newDF['Time'])\n",
    "newDF\n",
    "    "
   ]
  },
  {
   "cell_type": "code",
   "execution_count": null,
   "metadata": {},
   "outputs": [],
   "source": [
    "from pandasql import sqldf\n",
    "sql = lambda q: sqldf(q, globals())\n",
    "newDF = sqldf(\"SELECT * FROM newDF WHERE Time BETWEEN '2022-12-01 14:15:00' AND '2022-12-01 14:16:01'\")\n",
    "newDF"
   ]
  },
  {
   "cell_type": "code",
   "execution_count": null,
   "metadata": {},
   "outputs": [],
   "source": [
    "plt.plot(newDF.Time, newDF.Disk_Precentage)\n",
    " \n",
    "plt.title('Disk Usage Precentage')\n",
    "plt.xticks(rotation=30, ha='right')\n",
    "\n",
    "plt.xlabel('Time')\n",
    "plt.ylabel('Disk Precentage')\n",
    "plt.savefig('Disk.png')"
   ]
  }
 ],
 "metadata": {
  "kernelspec": {
   "display_name": "Python 3.8.10 64-bit",
   "language": "python",
   "name": "python3"
  },
  "language_info": {
   "name": "python",
   "version": "3.8.10"
  },
  "orig_nbformat": 4,
  "vscode": {
   "interpreter": {
    "hash": "916dbcbb3f70747c44a77c7bcd40155683ae19c65e1c03b4aa3499c5328201f1"
   }
  }
 },
 "nbformat": 4,
 "nbformat_minor": 2
}
